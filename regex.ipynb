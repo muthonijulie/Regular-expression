{
 "cells": [
  {
   "cell_type": "code",
   "execution_count": 2,
   "metadata": {},
   "outputs": [
    {
     "name": "stdout",
     "output_type": "stream",
     "text": [
      "<re.Match object; span=(23, 40), match='C026-01-0312/2018'>\n"
     ]
    },
    {
     "name": "stderr",
     "output_type": "stream",
     "text": [
      "<>:3: SyntaxWarning: invalid escape sequence '\\w'\n",
      "<>:3: SyntaxWarning: invalid escape sequence '\\w'\n",
      "C:\\Users\\Liz\\AppData\\Local\\Temp\\ipykernel_15304\\2752132540.py:3: SyntaxWarning: invalid escape sequence '\\w'\n",
      "  pattern3=\"[\\w]+\\-+\\d+\\-+\\d+/+\\d+\"\n"
     ]
    },
    {
     "data": {
      "text/plain": [
       "'C026-01-0312/2018'"
      ]
     },
     "execution_count": 2,
     "metadata": {},
     "output_type": "execute_result"
    }
   ],
   "source": [
    "import re\n",
    "text3=\"Registration number is C026-01-0312/2018\"\n",
    "pattern3=\"[\\w]+\\-+\\d+\\-+\\d+/+\\d+\"\n",
    "match= re.search(pattern3,text3)\n",
    "print(match)\n",
    "regNo=match[0]\n",
    "regNo"
   ]
  }
 ],
 "metadata": {
  "kernelspec": {
   "display_name": "Python 3",
   "language": "python",
   "name": "python3"
  },
  "language_info": {
   "codemirror_mode": {
    "name": "ipython",
    "version": 3
   },
   "file_extension": ".py",
   "mimetype": "text/x-python",
   "name": "python",
   "nbconvert_exporter": "python",
   "pygments_lexer": "ipython3",
   "version": "3.12.3"
  }
 },
 "nbformat": 4,
 "nbformat_minor": 2
}

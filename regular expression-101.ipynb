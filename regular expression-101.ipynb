{
 "cells": [
  {
   "cell_type": "code",
   "execution_count": 14,
   "id": "066c7eea",
   "metadata": {},
   "outputs": [],
   "source": [
    "import re\n",
    "text1=\"my contact are benson.kituku@dkut.ac.ke, 0726466987 and benson.kituku@gmail.com\"\n",
    "text2 = \"to get me use michael84@gamil.com, +254900567876\"\n",
    "Text= \"always available at Ericmuindi@hotmail.org, 0110345678\"\n",
    "text3=\"Registration number is C026-01-0312/2018\"\n"
   ]
  },
  {
   "cell_type": "code",
   "execution_count": 15,
   "id": "eb909a9d",
   "metadata": {
    "scrolled": true
   },
   "outputs": [
    {
     "name": "stdout",
     "output_type": "stream",
     "text": [
      "['Ericmuindi@hotmail.org']\n"
     ]
    },
    {
     "name": "stderr",
     "output_type": "stream",
     "text": [
      "<>:1: SyntaxWarning: invalid escape sequence '\\w'\n",
      "<>:2: SyntaxWarning: invalid escape sequence '\\+'\n",
      "<>:3: SyntaxWarning: invalid escape sequence '\\w'\n",
      "<>:1: SyntaxWarning: invalid escape sequence '\\w'\n",
      "<>:2: SyntaxWarning: invalid escape sequence '\\+'\n",
      "<>:3: SyntaxWarning: invalid escape sequence '\\w'\n",
      "C:\\Users\\Liz\\AppData\\Local\\Temp\\ipykernel_15156\\2202094381.py:1: SyntaxWarning: invalid escape sequence '\\w'\n",
      "  pattern1=\"[\\w]*\\.*[\\w]*@[\\w]*\\.[\\w]*\\.*[\\w]*\"\n",
      "C:\\Users\\Liz\\AppData\\Local\\Temp\\ipykernel_15156\\2202094381.py:2: SyntaxWarning: invalid escape sequence '\\+'\n",
      "  pattern2=\"\\+*\\d+\"\n",
      "C:\\Users\\Liz\\AppData\\Local\\Temp\\ipykernel_15156\\2202094381.py:3: SyntaxWarning: invalid escape sequence '\\w'\n",
      "  pattern3=\"[\\w]+\\-+\\d+\\-+\\d+/+\\d+\"\n"
     ]
    },
    {
     "data": {
      "text/plain": [
       "'Ericmuindi@hotmail.org'"
      ]
     },
     "execution_count": 15,
     "metadata": {},
     "output_type": "execute_result"
    }
   ],
   "source": [
    "pattern1=\"[\\w]*\\.*[\\w]*@[\\w]*\\.[\\w]*\\.*[\\w]*\"\n",
    "pattern2=\"\\+*\\d+\"\n",
    "pattern3=\"[\\w]+\\-+\\d+\\-+\\d+/+\\d+\"\n",
    "match= re.findall(pattern1,Text)\n",
    "print(match)\n",
    "email=match[0]\n",
    "email"
   ]
  },
  {
   "cell_type": "code",
   "execution_count": 16,
   "id": "f08a1645",
   "metadata": {},
   "outputs": [
    {
     "name": "stdout",
     "output_type": "stream",
     "text": [
      "['C026-01-0312/2018']\n"
     ]
    },
    {
     "data": {
      "text/plain": [
       "'C026-01-0312/2018'"
      ]
     },
     "execution_count": 16,
     "metadata": {},
     "output_type": "execute_result"
    }
   ],
   "source": [
    "match= re.findall(pattern3,text3)\n",
    "print(match)\n",
    "regNo=match[0]\n",
    "regNo"
   ]
  },
  {
   "cell_type": "code",
   "execution_count": 17,
   "id": "12644999",
   "metadata": {},
   "outputs": [
    {
     "name": "stdout",
     "output_type": "stream",
     "text": [
      "['0726466987']\n"
     ]
    },
    {
     "data": {
      "text/plain": [
       "'0726466987'"
      ]
     },
     "execution_count": 17,
     "metadata": {},
     "output_type": "execute_result"
    }
   ],
   "source": [
    "match= re.findall(pattern2,text1)\n",
    "print(match)\n",
    "phone=match[0]\n",
    "phone"
   ]
  }
 ],
 "metadata": {
  "kernelspec": {
   "display_name": "Python 3 (ipykernel)",
   "language": "python",
   "name": "python3"
  },
  "language_info": {
   "codemirror_mode": {
    "name": "ipython",
    "version": 3
   },
   "file_extension": ".py",
   "mimetype": "text/x-python",
   "name": "python",
   "nbconvert_exporter": "python",
   "pygments_lexer": "ipython3",
   "version": "3.12.3"
  }
 },
 "nbformat": 4,
 "nbformat_minor": 5
}

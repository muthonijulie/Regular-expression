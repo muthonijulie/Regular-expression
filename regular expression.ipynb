{
 "cells": [
  {
   "cell_type": "code",
   "execution_count": 2,
   "metadata": {},
   "outputs": [
    {
     "name": "stdout",
     "output_type": "stream",
     "text": [
      "<re.Match object; span=(66, 72), match='kituku'>\n",
      "kituku\n"
     ]
    }
   ],
   "source": [
    "import re\n",
    "text=re.search('KITUKU', 'This class of natural langauge processing is been conducted by dr.kituku', flags=re.I)\n",
    "print(text)\n",
    "print(text.group())"
   ]
  },
  {
   "cell_type": "code",
   "execution_count": 3,
   "metadata": {},
   "outputs": [
    {
     "name": "stdout",
     "output_type": "stream",
     "text": [
      "None\n",
      "kituku\n"
     ]
    }
   ],
   "source": [
    "import re\n",
    "text1=re.match('KITUKU', 'This class of natural langauge processing is been conducted by dr.kituku', flags=re.I)\n",
    "text2=re.match('KITUKU', 'kituku is conducting  the class of natural langauge processing ', flags=re.I)\n",
    "print(text1)\n",
    "print(text2.group())"
   ]
  }
 ],
 "metadata": {
  "kernelspec": {
   "display_name": "Python 3",
   "language": "python",
   "name": "python3"
  },
  "language_info": {
   "codemirror_mode": {
    "name": "ipython",
    "version": 3
   },
   "file_extension": ".py",
   "mimetype": "text/x-python",
   "name": "python",
   "nbconvert_exporter": "python",
   "pygments_lexer": "ipython3",
   "version": "3.12.3"
  }
 },
 "nbformat": 4,
 "nbformat_minor": 2
}
